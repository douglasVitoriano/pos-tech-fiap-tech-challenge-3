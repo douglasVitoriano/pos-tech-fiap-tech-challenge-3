import pandas as pd
import mysql.connector
from datetime import datetime


host = 'inst-fiap.cv6ka8860mr4.us-east-1.rds.amazonaws.com'  # Endereço do RDS
database = 'fiap_db'               # Nome do banco de dados
user = 'fiap'                     # Nome do usuário
password = 'fiap12345'                   # Senha do usuário

# Criar um DataFrame fictício
data = {
    'location': ['São Paulo', 'Rio de Janeiro', 'Belo Horizonte'],
    'area': [100, 80, 120],
    'rooms': [3, 2, 4],
    'price': [500000, 400000, 600000]
}
df = pd.DataFrame(data)


try:
    # Estabelecendo a conexão com o banco de dados
    conn = mysql.connector.connect(
        host=host,
        database=database,
        user=user,
        password=password
    )
    if conn.is_connected():
        print(f'Conectado ao banco de dados {database} no RDS.')

    cursor = conn.cursor()
    cursor.execute("""
        CREATE TABLE IF NOT EXISTS imoveis (
            location VARCHAR(255),
            area INT,
            rooms INT,
            price FLOAT
        )
    """)

    # Inserir dados do DataFrame no banco de dados
    for index, row in df.iterrows():
        cursor.execute(
            "INSERT INTO imoveis (location, area, rooms, price) VALUES (%s, %s, %s, %s)",
            (row['location'], row['area'], row['rooms'], row['price'])
        )
    conn.commit()
    print(f"{len(df)} registros inseridos com sucesso.")

except mysql.connector.Error as err:
    print(f"Erro ao conectar ao banco de dados: {err}")
except Exception as e:
    print(f"Erro inesperado: {e}")
finally:
    if conn.is_connected():
        cursor.close()
        conn.close()
        print("Conexão com o banco de dados fechada.")
