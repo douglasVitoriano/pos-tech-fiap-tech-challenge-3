#tratamento city
    df['city'] = df['city'].str.lower().str.strip().str.replace(r'\s+', ' ', regex=True)
    df = df.drop_duplicates(subset='city').reset_index(drop=True)
    df = df.dropna()
    #Salvando o df no Amazon RDS
    host = 'inst-fiap.cv6ka8860mr4.us-east-1.rds.amazonaws.com'  # Endereço do RDS
    database = 'fiap_db'               # Nome do banco de dados
    user = 'fiap'                     # Nome do usuário
    password = 'fiap12345'                   # Senha do usuário
    try:
    # Estabelecendo a conexão com o banco de dados
        conn = mysql.connector.connect(
            host=host,
            database=database,
            user=user,
            password=password
        )
        if conn.is_connected():
            print(f'Conectado ao banco de dados {database} no RDS.')

        cursor = conn.cursor()
        cursor.execute("""
        CREATE TABLE IF NOT EXISTS imoveis_fiap (
            price FLOAT,
            bed INT,
            city VARCHAR(255),
            house_size INT,
            price_per_sq_meter FLOAT,
            room_density FLOAT,
            housesize INT
        )
    """)

    # Inserir dados do DataFrame no banco de dados
        for index, row in df.iterrows():
            cursor.execute(
        "INSERT INTO imoveis_fiap (price, bed, city, house_size, price_per_sq_meter, room_density, housesize) VALUES (%s, %s, %s, %s, %s, %s, %s)",
        (row['price'], row['bed'], row['city'], row['house_size'], row['price_per_sq_meter'], row['room_density'], row['housesize'])
    )
        conn.commit()
        print(f"{len(df)} registros inseridos com sucesso.")

    except mysql.connector.Error as err:
        print(f"Erro ao conectar ao banco de dados: {err}")
    except Exception as e:
        print(f"Erro inesperado: {e}")
    finally:
        if conn.is_connected():
            cursor.close()
            conn.close()
            print("Conexão com o banco de dados fechada.")
    
    print("Exibindo as primeiras linhas do dataset tratado:")
    print(df.head())
    return df
