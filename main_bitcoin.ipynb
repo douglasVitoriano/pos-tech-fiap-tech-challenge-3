{
 "cells": [
  {
   "cell_type": "code",
   "execution_count": 36,
   "metadata": {},
   "outputs": [],
   "source": [
    "import requests\n",
    "import json\n",
    "from newsapi.newsapi_client import NewsApiClient\n",
    "import pandas as pd\n",
    "from datetime import datetime\n",
    "import re\n",
    "import nltk\n",
    "from nltk.corpus import stopwords\n",
    "from nltk.tokenize import word_tokenize\n",
    "from sklearn.feature_extraction.text import TfidfVectorizer\n",
    "import numpy as np\n",
    "import requests\n",
    "from sklearn.preprocessing import MinMaxScaler\n",
    "import matplotlib.pyplot as plt\n",
    "from sklearn.linear_model import LinearRegression\n",
    "from sklearn.model_selection import train_test_split\n",
    "from sklearn.metrics import mean_squared_error, mean_absolute_error\n",
    "from sklearn.model_selection import TimeSeriesSplit\n",
    "from nltk.sentiment.vader import SentimentIntensityAnalyzer\n",
    "from statsmodels.tsa.arima.model import ARIMA\n",
    "from sklearn.metrics import accuracy_score, precision_score, recall_score, f1_score"
   ]
  },
  {
   "cell_type": "markdown",
   "metadata": {},
   "source": [
    "## Obtendo noticias"
   ]
  },
  {
   "cell_type": "code",
   "execution_count": 20,
   "metadata": {},
   "outputs": [
    {
     "name": "stderr",
     "output_type": "stream",
     "text": [
      "[nltk_data] Downloading package punkt to /home/ayres/nltk_data...\n",
      "[nltk_data]   Package punkt is already up-to-date!\n",
      "[nltk_data] Downloading package punkt_tab to /home/ayres/nltk_data...\n",
      "[nltk_data]   Package punkt_tab is already up-to-date!\n",
      "[nltk_data] Downloading package stopwords to /home/ayres/nltk_data...\n",
      "[nltk_data]   Package stopwords is already up-to-date!\n",
      "[nltk_data] Downloading package vader_lexicon to\n",
      "[nltk_data]     /home/ayres/nltk_data...\n"
     ]
    },
    {
     "name": "stdout",
     "output_type": "stream",
     "text": [
      "Notícia 1: O que está acontecendo com o preço do bitcoin?\n",
      "Fonte: Olhardigital.com.br\n",
      "Data de Publicação: 2024-11-24T22:20:00Z\n",
      "Resumo: O preço do bitcoin foi impactado pela eleição de Donald Trump nos Estados Unidos, com a esperança de um mandato pró-cripto.\n",
      "O post O que está acontecendo com o preço do bitcoin? apareceu primeiro em Olhar Digital.\n",
      "URL: https://olhardigital.com.br/2024/11/24/pro/o-que-esta-acontecendo-com-o-preco-do-bitcoin/\n",
      "\n",
      "Notícia 2: Bitcoin supera US$ 100 mil pela primeira vez em sua história\n",
      "Fonte: Olhardigital.com.br\n",
      "Data de Publicação: 2024-12-05T12:03:00Z\n",
      "Resumo: Entre os fatores que levaram o Bitcoin a ultrapassar US$ 100 mil, está a vitória de Donald Trump nas eleições presidenciais dos EUA\n",
      "O post Bitcoin supera US$ 100 mil pela primeira vez em sua história apareceu primeiro em Olhar Digital.\n",
      "URL: https://olhardigital.com.br/2024/12/05/pro/bitcoin-supera-us-100-mil-pela-primeira-vez-em-sua-historia/\n",
      "\n",
      "Notícia 3: Bitcoin atinge valor recorde de US$ 100 mil pela primeira vez na história; veja motivos da alta\n",
      "Fonte: Tecmundo.com.br\n",
      "Data de Publicação: 2024-12-05T12:28:27Z\n",
      "Resumo: O bitcoin atingiu na última quarta-feira (04) o maior valor de sua história na cotação do dólar. Pela primeira vez desde a sua criação, uma unidade da criptomoeda vale mais do que US$ 100 mil — ou aproximadamente R$ 603 mil em conversão direta de moeda.Ao tod…\n",
      "URL: https://www.tecmundo.com.br/mercado/400689-bitcoin-atinge-valor-recorde-de-us-100-mil-pela-primeira-vez-na-historia-veja-motivos-da-alta.htm\n",
      "\n",
      "Notícia 4: Recorde: 1 Bitcoin vale agora quase 92 mil euros!\n",
      "Fonte: Sapo.pt\n",
      "Data de Publicação: 2024-11-21T09:00:07Z\n",
      "Resumo: Sim, leu bem! Apenas uma bitcoin vale agora quase 92 mil euros. Nos últimos tempos esta criptomoeda tem valorizado bastante, e há já quem fale numa nova era das criptomoedas. Bitcoin já chegou a...\n",
      "URL: https://pplware.sapo.pt/internet/recorde-1-bitcoin-vale-agora-quase-92-mil-euros/\n",
      "\n",
      "Notícia 5: Bitcoin atinge 80 mil dólares: “a criptomoeda está pronta para entrar numa era de ouro”\n",
      "Fonte: Sapo.pt\n",
      "Data de Publicação: 2024-11-11T10:00:27Z\n",
      "Resumo: Após a vitória de Donald Trump, nos Estados Unidos da América (EUA), a Bitcoin conheceu um novo recorde, chegando aos 80 mil dólares, pela primeira vez. A Bitcoin chegou a um novo patamar de...\n",
      "URL: https://pplware.sapo.pt/criptomoeda/bitcoin-atinge-80-mil-dolares-a-criptomoeda-esta-pronta-para-entrar-numa-era-de-ouro/\n",
      "\n"
     ]
    }
   ],
   "source": [
    "from newsapi import NewsApiClient\n",
    "\n",
    "# Inicialize o cliente NewsApiClient com a sua chave de API\n",
    "api_key = '3be6fb74511c432bb6741415eb0419d7'\n",
    "newsapi = NewsApiClient(api_key=api_key)\n",
    "\n",
    "nltk.download('punkt')\n",
    "nltk.download('punkt_tab')\n",
    "nltk.download('stopwords')\n",
    "nltk.download('vader_lexicon')\n",
    "\n",
    "def get_bitcoin_news(newsapi, from_date, to_date, page_size=100, page=1):\n",
    "    # Coletando notícias usando a API NewsApiClient\n",
    "    all_articles = newsapi.get_everything(\n",
    "        q='bitcoin',\n",
    "        from_param=from_date,\n",
    "        to=to_date,\n",
    "        language='pt',\n",
    "        sort_by='relevancy',\n",
    "        page_size=page_size,\n",
    "        page=page\n",
    "    )\n",
    "    return all_articles['articles']\n",
    "\n",
    "# Coletando as notícias entre 2024-11-10 e 2024-12-06\n",
    "from_date = '2024-11-10'\n",
    "to_date = '2024-12-06'\n",
    "news = get_bitcoin_news(newsapi, from_date, to_date)\n",
    "\n",
    "# Exibindo as 5 primeiras notícias para garantir que os dados foram coletados\n",
    "for i, article in enumerate(news[:5]):\n",
    "    print(f\"Notícia {i+1}: {article['title']}\")\n",
    "    print(f\"Fonte: {article['source']['name']}\")\n",
    "    print(f\"Data de Publicação: {article['publishedAt']}\")\n",
    "    print(f\"Resumo: {article['description']}\")\n",
    "    print(f\"URL: {article['url']}\\n\")\n"
   ]
  },
  {
   "cell_type": "markdown",
   "metadata": {},
   "source": [
    "## Obtendo preços do bitcoin"
   ]
  },
  {
   "cell_type": "code",
   "execution_count": 18,
   "metadata": {},
   "outputs": [
    {
     "name": "stdout",
     "output_type": "stream",
     "text": [
      "            price                date\n",
      "0   429352.704838 2024-11-07 00:00:00\n",
      "1   432640.959817 2024-11-08 00:00:00\n",
      "2   439236.367702 2024-11-09 00:00:00\n",
      "3   439696.575568 2024-11-10 00:00:00\n",
      "4   461767.828452 2024-11-11 00:00:00\n",
      "5   510276.763217 2024-11-12 00:00:00\n",
      "6   507450.836859 2024-11-13 00:00:00\n",
      "7   525428.292383 2024-11-14 00:00:00\n",
      "8   506124.461753 2024-11-15 00:00:00\n",
      "9   527220.864224 2024-11-16 00:00:00\n",
      "10  525241.088697 2024-11-17 00:00:00\n",
      "11  520761.600034 2024-11-18 00:00:00\n",
      "12  520383.968718 2024-11-19 00:00:00\n",
      "13  532587.147427 2024-11-20 00:00:00\n",
      "14  543905.448015 2024-11-21 00:00:00\n",
      "15  572820.575186 2024-11-22 00:00:00\n",
      "16  573878.398179 2024-11-23 00:00:00\n",
      "17  566638.569599 2024-11-24 00:00:00\n",
      "18  568544.962609 2024-11-25 00:00:00\n",
      "19  539405.130281 2024-11-26 00:00:00\n",
      "20  534077.970875 2024-11-27 00:00:00\n",
      "21  570022.633300 2024-11-28 00:00:00\n",
      "22  575442.764327 2024-11-29 00:00:00\n",
      "23  582175.954315 2024-11-30 00:00:00\n",
      "24  576559.861067 2024-12-01 00:00:00\n",
      "25  581341.695745 2024-12-02 00:00:00\n",
      "26  580595.472536 2024-12-03 00:00:00\n",
      "27  580530.415586 2024-12-04 00:00:00\n",
      "28  597273.739956 2024-12-05 00:00:00\n",
      "29  584346.259739 2024-12-06 00:00:00\n",
      "30  618549.483463 2024-12-06 18:32:49\n"
     ]
    }
   ],
   "source": [
    "\n",
    "# Endpoint da API CoinGecko para pegar preços históricos do Bitcoin\n",
    "url = 'https://api.coingecko.com/api/v3/coins/bitcoin/market_chart'\n",
    "\n",
    "# Parâmetros da requisição: período e moeda\n",
    "params = {\n",
    "    'vs_currency': 'brl',  # Moeda que estamos interessados, USD\n",
    "    'days': '30',  # Últimos 30 dias de dados\n",
    "    'interval': 'daily'  # Intervalo de dados diário\n",
    "}\n",
    "\n",
    "# Realizando a requisição GET\n",
    "response = requests.get(url, params=params)\n",
    "\n",
    "# Verificando se a requisição foi bem-sucedida\n",
    "if response.status_code == 200:\n",
    "    # Convertendo a resposta JSON para um dicionário\n",
    "    data = response.json()\n",
    "    \n",
    "    # Extraindo os preços e as datas\n",
    "    prices = data['prices']\n",
    "    prices_df = pd.DataFrame(prices, columns=['timestamp', 'price'])\n",
    "    \n",
    "    # Convertendo a coluna de timestamps para datetime\n",
    "    prices_df['date'] = pd.to_datetime(prices_df['timestamp'], unit='ms')\n",
    "    \n",
    "    # Remover a coluna de timestamp\n",
    "    prices_df = prices_df.drop(columns=['timestamp'])\n",
    "    \n",
    "    # Exibindo os preços coletados\n",
    "    print(prices_df)\n",
    "else:\n",
    "    print(\"Erro ao acessar a API:\", response.status_code)\n",
    "\n"
   ]
  },
  {
   "cell_type": "markdown",
   "metadata": {},
   "source": [
    "## Pré-processamento noticias"
   ]
  },
  {
   "cell_type": "code",
   "execution_count": null,
   "metadata": {},
   "outputs": [],
   "source": [
    "# Função de limpeza de texto\n",
    "def clean_text(text):\n",
    "    # Remover URLs\n",
    "    text = re.sub(r'http\\S+|www\\S+', '', text)\n",
    "    \n",
    "    # Remover caracteres especiais e pontuação\n",
    "    #text = re.sub(r'[^a-zA-Z\\s]', '', text)\n",
    "    \n",
    "    # Converter para minúsculas\n",
    "    text = text.lower()\n",
    "    \n",
    "    return text\n",
    "\n",
    "# Função para remover stopwords e tokenizar\n",
    "def tokenize_and_remove_stopwords(text):\n",
    "    # Tokenizar o texto\n",
    "    tokens = word_tokenize(text)\n",
    "    \n",
    "    # Remover stopwords\n",
    "    stop_words = set(stopwords.words('portuguese'))  # Usar stopwords em português\n",
    "    filtered_tokens = [word for word in tokens if word not in stop_words]\n",
    "    \n",
    "    return \" \".join(filtered_tokens)\n",
    "\n",
    "# Pré-processar as notícias coletadas\n",
    "cleaned_news = [clean_text(article['description']) for article in news if article['description']]\n",
    "tokenized_news = [tokenize_and_remove_stopwords(article) for article in cleaned_news]\n",
    "\n",
    "# Exibir as notícias processadas\n",
    "print(\"Notícias após pré-processamento:\")\n",
    "for article in tokenized_news[:5]:  # Exibir as 5 primeiras notícias processadas\n",
    "    print(article)\n",
    "\n",
    "# Usando o TF-IDF para converter o texto em vetores numéricos\n",
    "vectorizer = TfidfVectorizer(max_features=100)  # Usando as 100 palavras mais importantes\n",
    "X = vectorizer.fit_transform(tokenized_news)\n",
    "\n",
    "# Exibindo a representação TF-IDF\n",
    "print(\"\\nMatriz TF-IDF:\")\n",
    "print(X.toarray())\n"
   ]
  },
  {
   "cell_type": "markdown",
   "metadata": {},
   "source": [
    "## Pré-processamento bitcoin"
   ]
  },
  {
   "cell_type": "code",
   "execution_count": null,
   "metadata": {},
   "outputs": [],
   "source": [
    "# Extraindo os preços e as datas\n",
    "prices = data['prices']\n",
    "\n",
    "# Criando um DataFrame com as colunas de timestamp e price\n",
    "prices_df = pd.DataFrame(prices, columns=['timestamp', 'price'])\n",
    "\n",
    "# Convertendo a coluna de timestamps para datetime\n",
    "prices_df['date'] = pd.to_datetime(prices_df['timestamp'], unit='ms')\n",
    "\n",
    "# Remover a coluna de timestamp\n",
    "prices_df = prices_df.drop(columns=['timestamp'])\n",
    "\n",
    "# Definir a coluna 'date' como índice\n",
    "prices_df.set_index('date', inplace=True)\n",
    "# Exibindo os preços coletados\n",
    "print(\"Preços originais:\")\n",
    "print(prices_df.head())\n",
    "# 1. Limpeza dos dados\n",
    "# Verificar valores nulos\n",
    "print(\"\\nVerificando valores nulos:\")\n",
    "print(prices_df.isnull().sum())\n",
    "# Se houver valores nulos, podemos preenchê-los ou descartá-los\n",
    "prices_df.fillna(method='ffill', inplace=True)  # Preenche valores nulos com o valor anterior\n",
    "\n",
    "# 2. Criação de novas colunas\n",
    "# Calcular o retorno diário\n",
    "prices_df['daily_return'] = prices_df['price'].pct_change()\n",
    "\n",
    "# Calcular a média móvel de 7 dias\n",
    "prices_df['7_day_moving_avg'] = prices_df['price'].rolling(window=7).mean()\n",
    "\n",
    "# Calcular a média móvel de 30 dias\n",
    "prices_df['30_day_moving_avg'] = prices_df['price'].rolling(window=30).mean()\n",
    "# Exibindo as novas colunas\n",
    "print(\"\\nDados após criação de novas colunas:\")\n",
    "print(prices_df.tail())\n",
    "# 3. Normalização dos dados\n",
    "scaler = MinMaxScaler(feature_range=(0, 1))  # Escalando entre 0 e 1\n",
    "prices_df[['price', 'daily_return', '7_day_moving_avg', '30_day_moving_avg']] = scaler.fit_transform(\n",
    "    prices_df[['price', 'daily_return', '7_day_moving_avg', '30_day_moving_avg']]\n",
    ")\n",
    "\n",
    "# 4. Visualização dos preços normalizados\n",
    "plt.figure(figsize=(10, 6))\n",
    "plt.plot(prices_df['price'], label='Preço Normalizado')\n",
    "plt.title('Preço Normalizado do Bitcoin')\n",
    "plt.xlabel('Data')\n",
    "plt.ylabel('Preço Normalizado')\n",
    "plt.legend()\n",
    "plt.show()\n",
    "    \n",
    "# Exibindo os dados processados\n",
    "print(\"\\nDados normalizados:\")\n",
    "print(prices_df.head())"
   ]
  },
  {
   "cell_type": "markdown",
   "metadata": {},
   "source": [
    "## Treinamento do Modelo de Análise de Sentimentos"
   ]
  },
  {
   "cell_type": "code",
   "execution_count": 22,
   "metadata": {},
   "outputs": [],
   "source": [
    "# Função para calcular o sentimento das notícias usando VADER\n",
    "def get_sentiment_label(score):\n",
    "    if score > 0.1:\n",
    "        return 'Positivo'\n",
    "    elif score < -0.1:\n",
    "        return 'Negativo'\n",
    "    else:\n",
    "        return 'Neutro'\n",
    "\n",
    "def get_sentiment_scores(news_articles):\n",
    "    analyzer = SentimentIntensityAnalyzer()\n",
    "    sentiment_labels = []\n",
    "    sentiment_scores = []\n",
    "    \n",
    "    for article in news_articles:\n",
    "        # Calcula o sentimento de cada notícia\n",
    "        sentiment = analyzer.polarity_scores(article['description'])\n",
    "        score = sentiment['compound']  # 'compound' é o score geral do sentimento\n",
    "        \n",
    "        # Classificar como 'Positivo', 'Negativo' ou 'Neutro'\n",
    "        sentiment_labels.append(get_sentiment_label(score))\n",
    "        sentiment_scores.append(score)  # Salva o valor numérico do sentimento\n",
    "        \n",
    "    return sentiment_labels, sentiment_scores\n",
    "\n",
    "# Calculando o sentimento das notícias\n",
    "sentiment_labels, sentiment_scores = get_sentiment_scores(news)\n",
    "\n",
    "# \n"
   ]
  },
  {
   "cell_type": "markdown",
   "metadata": {},
   "source": [
    "## Treinamento do Modelo para Analisar o Impacto no Preço do Bitcoin"
   ]
  },
  {
   "cell_type": "code",
   "execution_count": null,
   "metadata": {},
   "outputs": [],
   "source": [
    "# Dividindo os dados em treino e teste\n",
    "train_size = int(len(prices_df) * 0.8)\n",
    "train, test = prices_df[:train_size], prices_df[train_size:]\n",
    "\n",
    "# Criando o modelo ARIMA\n",
    "model = ARIMA(train['price_change'], exog=train['sentiment'], order=(5, 1, 0))  # ARIMA(p,d,q)\n",
    "model_fit = model.fit()\n",
    "\n",
    "# Fazendo previsões\n",
    "forecast = model_fit.forecast(steps=len(test), exog=test['sentiment'])\n",
    "\n",
    "# Calculando o erro médio quadrático (MSE)\n",
    "mse = mean_squared_error(test['price_change'], forecast)\n",
    "print(f\"Erro Médio Quadrático (MSE) do ARIMA: {mse}\")\n",
    "\n",
    "# Visualizando as previsões\n",
    "plt.figure(figsize=(10, 6))\n",
    "plt.plot(test.index, test['price_change'], label='Variação Real do Preço', color='blue')\n",
    "plt.plot(test.index, forecast, label='Variação Prevista', color='red', linestyle='--')\n",
    "plt.title('Previsão da Variação do Preço do Bitcoin com Sentimento das Notícias (ARIMA)')\n",
    "plt.xlabel('Data')\n",
    "plt.ylabel('Variação do Preço')\n",
    "plt.legend()\n",
    "plt.show()\n"
   ]
  },
  {
   "cell_type": "code",
   "execution_count": null,
   "metadata": {},
   "outputs": [],
   "source": [
    "# Dividindo os dados em treino e teste\n",
    "train_size = int(len(prices_df) * 0.8)\n",
    "train, test = prices_df[:train_size], prices_df[train_size:]\n",
    "\n",
    "# Criando o modelo ARIMA\n",
    "model = ARIMA(train['price_change'], exog=train['sentiment'], order=(5, 1, 0))  # ARIMA(p,d,q)\n",
    "model_fit = model.fit()\n",
    "\n",
    "# Fazendo previsões\n",
    "forecast = model_fit.forecast(steps=len(test), exog=test['sentiment'])\n",
    "\n",
    "# Calculando o erro médio quadrático (MSE)\n",
    "mse = mean_squared_error(test['price_change'], forecast)\n",
    "print(f\"Erro Médio Quadrático (MSE) do ARIMA: {mse}\")\n",
    "\n",
    "# Visualizando as previsões\n",
    "plt.figure(figsize=(10, 6))\n",
    "plt.plot(test.index, test['price_change'], label='Variação Real do Preço', color='blue')\n",
    "plt.plot(test.index, forecast, label='Variação Prevista', color='red', linestyle='--')\n",
    "plt.title('Previsão da Variação do Preço do Bitcoin com Sentimento das Notícias (ARIMA)')\n",
    "plt.xlabel('Data')\n",
    "plt.ylabel('Variação do Preço')\n",
    "plt.legend()\n",
    "plt.show()"
   ]
  },
  {
   "cell_type": "markdown",
   "metadata": {},
   "source": [
    "## Avaliação e Ajustes no Modelo"
   ]
  },
  {
   "cell_type": "code",
   "execution_count": 33,
   "metadata": {},
   "outputs": [
    {
     "name": "stdout",
     "output_type": "stream",
     "text": [
      "Acurácia: 0.4000\n",
      "Precisão: 0.1333\n",
      "Recall: 0.3333\n",
      "F1-score: 0.1905\n"
     ]
    },
    {
     "name": "stderr",
     "output_type": "stream",
     "text": [
      "/home/ayres/Documents/estudos/pos-tech-fiap-tech-challenge-3/venv/lib/python3.10/site-packages/sklearn/metrics/_classification.py:1531: UndefinedMetricWarning: Precision is ill-defined and being set to 0.0 in labels with no predicted samples. Use `zero_division` parameter to control this behavior.\n",
      "  _warn_prf(average, modifier, f\"{metric.capitalize()} is\", len(result))\n"
     ]
    }
   ],
   "source": [
    "# Exemplo de labels reais (baseado em um método simplificado)\n",
    "# Aqui estamos criando 5 rótulos reais como exemplo\n",
    "sentiment_labels_true = ['Positivo', 'Neutro', 'Negativo', 'Positivo', 'Neutro']  # Ajuste com seus dados reais\n",
    "\n",
    "# Vamos assumir que você já tem as predições (exemplo de 5 predições, correspondendo a 5 notícias)\n",
    "sentiment_labels = ['Positivo', 'Neutro', 'Negativo', 'Positivo', 'Neutro']  # Exemplo de predições feitas pelo modelo\n",
    "\n",
    "# Caso tenha mais predições que rótulos reais, é necessário ajustar a lista\n",
    "# Aqui vamos simular 100 predições para ilustrar o erro\n",
    "\n",
    "sentiment_labels = ['Positivo'] * 100  # Exemplo onde temos 100 predições de 'Positivo'\n",
    "\n",
    "# Para ajustar isso, considere uma abordagem para limitar ou expandir a lista de predições\n",
    "# Aqui vamos simplificar limitando as predições para 5, para que fiquem consistentes com os rótulos reais\n",
    "\n",
    "sentiment_labels = sentiment_labels[:5]  # Ajusta para que o número de predições seja o mesmo\n",
    "\n",
    "# Agora, calculamos as métricas com dados consistentes\n",
    "accuracy = accuracy_score(sentiment_labels_true, sentiment_labels)\n",
    "precision = precision_score(sentiment_labels_true, sentiment_labels, average='macro', labels=['Positivo', 'Negativo', 'Neutro'])\n",
    "recall = recall_score(sentiment_labels_true, sentiment_labels, average='macro', labels=['Positivo', 'Negativo', 'Neutro'])\n",
    "f1 = f1_score(sentiment_labels_true, sentiment_labels, average='macro', labels=['Positivo', 'Negativo', 'Neutro'])\n",
    "\n",
    "# Exibindo as métricas\n",
    "print(f\"Acurácia: {accuracy:.4f}\")\n",
    "print(f\"Precisão: {precision:.4f}\")\n",
    "print(f\"Recall: {recall:.4f}\")\n",
    "print(f\"F1-score: {f1:.4f}\")\n"
   ]
  },
  {
   "cell_type": "code",
   "execution_count": 35,
   "metadata": {},
   "outputs": [
    {
     "name": "stdout",
     "output_type": "stream",
     "text": [
      "Erro Absoluto Médio (MAE): 59.8833\n",
      "Erro Quadrático Médio (RMSE): 78.6182\n"
     ]
    }
   ],
   "source": [
    "# Fazendo previsões com o modelo ARIMA\n",
    "forecast = model_fit.forecast(steps=len(test), exog=test['sentiment'])\n",
    "\n",
    "# Calculando o erro absoluto médio (MAE) e erro quadrático médio (RMSE)\n",
    "mae = mean_absolute_error(test['price_change'], forecast)\n",
    "rmse = np.sqrt(mean_squared_error(test['price_change'], forecast))\n",
    "\n",
    "# Exibindo as métricas\n",
    "print(f\"Erro Absoluto Médio (MAE): {mae:.4f}\")\n",
    "print(f\"Erro Quadrático Médio (RMSE): {rmse:.4f}\")\n"
   ]
  },
  {
   "cell_type": "code",
   "execution_count": 42,
   "metadata": {},
   "outputs": [
    {
     "name": "stdout",
     "output_type": "stream",
     "text": [
      "              price_change  sentiment\n",
      "price_change      1.000000  -0.027942\n",
      "sentiment        -0.027942   1.000000\n"
     ]
    }
   ],
   "source": [
    "# Verificando a correlação entre price_change e sentiment\n",
    "print(prices_df[['price_change', 'sentiment']].corr())\n"
   ]
  },
  {
   "cell_type": "code",
   "execution_count": 43,
   "metadata": {},
   "outputs": [],
   "source": [
    "from sklearn.preprocessing import StandardScaler\n",
    "\n",
    "# Normalizando as variáveis\n",
    "scaler = StandardScaler()\n",
    "\n",
    "# Aplicando a normalização na variável 'sentiment'\n",
    "prices_df['sentiment_scaled'] = scaler.fit_transform(prices_df[['sentiment']])\n"
   ]
  },
  {
   "cell_type": "code",
   "execution_count": null,
   "metadata": {},
   "outputs": [
    {
     "name": "stderr",
     "output_type": "stream",
     "text": [
      "/home/ayres/Documents/estudos/pos-tech-fiap-tech-challenge-3/venv/lib/python3.10/site-packages/sklearn/metrics/_classification.py:1531: UndefinedMetricWarning: Precision is ill-defined and being set to 0.0 in labels with no predicted samples. Use `zero_division` parameter to control this behavior.\n",
      "  _warn_prf(average, modifier, f\"{metric.capitalize()} is\", len(result))\n",
      "/home/ayres/Documents/estudos/pos-tech-fiap-tech-challenge-3/venv/lib/python3.10/site-packages/statsmodels/tsa/statespace/sarimax.py:966: UserWarning: Non-stationary starting autoregressive parameters found. Using zeros as starting parameters.\n",
      "  warn('Non-stationary starting autoregressive parameters'\n",
      "/home/ayres/Documents/estudos/pos-tech-fiap-tech-challenge-3/venv/lib/python3.10/site-packages/statsmodels/tsa/statespace/sarimax.py:966: UserWarning: Non-stationary starting autoregressive parameters found. Using zeros as starting parameters.\n",
      "  warn('Non-stationary starting autoregressive parameters'\n",
      "/home/ayres/Documents/estudos/pos-tech-fiap-tech-challenge-3/venv/lib/python3.10/site-packages/statsmodels/base/model.py:607: ConvergenceWarning: Maximum Likelihood optimization failed to converge. Check mle_retvals\n",
      "  warnings.warn(\"Maximum Likelihood optimization failed to \"\n"
     ]
    },
    {
     "name": "stdout",
     "output_type": "stream",
     "text": [
      "Métricas de Análise de Sentimentos:\n",
      "Acurácia: 0.4000\n",
      "Precisão: 0.1333\n",
      "Recall: 0.3333\n",
      "F1-score: 0.1905\n",
      "MAE: 194.3641, RMSE: 243.1030\n",
      "MAE: 190.7100, RMSE: 220.0854\n",
      "MAE: 136.5015, RMSE: 140.3814\n",
      "MAE: 89.4422, RMSE: 113.5914\n",
      "MAE: 107.9367, RMSE: 154.0982\n"
     ]
    },
    {
     "data": {
      "image/png": "[encoded data removed]",
      "text/plain": [
       "<Figure size 1200x600 with 1 Axes>"
      ]
     },
     "metadata": {},
     "output_type": "display_data"
    }
   ],
   "source": [
    "# Normalizando a variável 'sentiment'\n",
    "scaler = StandardScaler()\n",
    "prices_df['sentiment_scaled'] = scaler.fit_transform(prices_df[['sentiment']])\n",
    "\n",
    "# Definindo o número de splits para validação cruzada\n",
    "tscv = TimeSeriesSplit(n_splits=5)\n",
    "\n",
    "# Inicializando listas para armazenar os resultados\n",
    "forecasted_prices = []\n",
    "true_prices = []\n",
    "\n",
    "# Realizando a validação cruzada\n",
    "for train_index, test_index in tscv.split(prices_df):\n",
    "    train, test = prices_df.iloc[train_index], prices_df.iloc[test_index]\n",
    "    \n",
    "    # Criando o modelo ARIMA (ajustando os parâmetros conforme necessário)\n",
    "    try:\n",
    "        model = ARIMA(train['price_change'], exog=train['sentiment_scaled'], order=(5, 1, 0))\n",
    "        model_fit = model.fit()\n",
    "    \n",
    "        # Fazendo previsões\n",
    "        forecast = model_fit.forecast(steps=len(test), exog=test['sentiment_scaled'])\n",
    "    \n",
    "        # Calculando os erros\n",
    "        mae = mean_absolute_error(test['price_change'], forecast)\n",
    "        rmse = np.sqrt(mean_squared_error(test['price_change'], forecast))\n",
    "    \n",
    "        print(f\"MAE: {mae:.4f}, RMSE: {rmse:.4f}\")\n",
    "        \n",
    "        # Armazenando os resultados para plotagem\n",
    "        forecasted_prices.extend(forecast)\n",
    "        true_prices.extend(test['price_change'].values)\n",
    "    \n",
    "    except Exception as e:\n",
    "        print(f\"Erro ao ajustar o modelo ARIMA: {e}\")\n",
    "\n",
    "\n",
    "# Plotando o gráfico de comparação entre preços reais e previstos\n",
    "plt.figure(figsize=(12, 6))\n",
    "plt.plot(true_prices, label='Preço Real (Price Change)', color='blue', linestyle='--', marker='o', markersize=5)\n",
    "plt.plot(forecasted_prices, label='Preço Previsto (ARIMA Forecast)', color='red', linestyle='-', marker='x', markersize=5)\n",
    "\n",
    "# Personalizando o gráfico\n",
    "plt.title('Comparação entre Preços Reais e Previsões do ARIMA', fontsize=14)\n",
    "plt.xlabel('Dias', fontsize=12)\n",
    "plt.ylabel('Mudança no Preço (%)', fontsize=12)\n",
    "plt.legend()\n",
    "plt.grid(True)\n",
    "plt.show()\n",
    "\n",
    "# Calculando as métricas de sentimentos\n",
    "accuracy = accuracy_score(sentiment_labels_true, sentiment_labels)\n",
    "precision = precision_score(sentiment_labels_true, sentiment_labels, average='macro', labels=['Positivo', 'Negativo', 'Neutro'])\n",
    "recall = recall_score(sentiment_labels_true, sentiment_labels, average='macro', labels=['Positivo', 'Negativo', 'Neutro'])\n",
    "f1 = f1_score(sentiment_labels_true, sentiment_labels, average='macro', labels=['Positivo', 'Negativo', 'Neutro'])\n",
    "\n",
    "# Exibindo as métricas de sentimentos\n",
    "print(f\"Métricas de Análise de Sentimentos:\")\n",
    "print(f\"Acurácia: {accuracy:.4f}\")\n",
    "print(f\"Precisão: {precision:.4f}\")\n",
    "print(f\"Recall: {recall:.4f}\")\n",
    "print(f\"F1-score: {f1:.4f}\")\n"
   ]
  }
 ],
 "metadata": {
  "kernelspec": {
   "display_name": "venv",
   "language": "python",
   "name": "python3"
  },
  "language_info": {
   "codemirror_mode": {
    "name": "ipython",
    "version": 3
   },
   "file_extension": ".py",
   "mimetype": "text/x-python",
   "name": "python",
   "nbconvert_exporter": "python",
   "pygments_lexer": "ipython3",
   "version": "3.10.12"
  }
 },
 "nbformat": 4,
 "nbformat_minor": 2
}
