{
 "cells": [
  {
   "cell_type": "code",
   "execution_count": 1,
   "metadata": {},
   "outputs": [
    {
     "name": "stdout",
     "output_type": "stream",
     "text": [
      "Status da resposta: 200\n"
     ]
    }
   ],
   "source": [
    "import yfinance as yf\n",
    "import requests\n",
    "from bs4 import BeautifulSoup\n",
    "\n",
    "\n",
    "\n",
    "url = f\"https://www.google.com/finance/quote/VIVT3:BVMF?window=5D\"\n",
    "response = requests.get(url)\n",
    "response\n",
    "print(\"Status da resposta:\", response.status_code)  \n",
    "\n",
    "\n",
    "\n"
   ]
  },
  {
   "cell_type": "code",
   "execution_count": null,
   "metadata": {},
   "outputs": [
    {
     "name": "stdout",
     "output_type": "stream",
     "text": [
      "Venda Vivo e compre Cemig: veja a carteira da Nova Futura\n",
      "BB: veja as 5 carteiras de ações para novembro\n",
      "Nubank lança planos para celular NuCel: vai dar certo?\n",
      "Veja 4 ações para lucrar em uma economia bagunçada\n",
      "Internet ficará mais cara após medida protecionista de Lula\n",
      "TIM (TIMS3): estratégia de preços mais agressiva preocupa? Santander avalia que não\n",
      "NuCel: lançamento de operadora pode afetar projeções para TIM e Vivo na Bolsa?\n",
      "None\n",
      "Telefônica Vivo (VIVT3) registra lucro 13% superior no balanço do 3º trimestre\n",
      "Vivo (VIVT3) convocará AGE para votar restituição de capital de R$ 2 bilhões\n",
      "Ações de dividendos para novembro: Vibra (VBBR3) e mais dois surgem entre preferidos\n",
      "Eleições nos EUA, balanço da Gerdau, nova reunião sobre corte de gastos e mais\n",
      "Vivo, GPA, PRIO, RD, Vibra, Odontoprev, Marisa e mais ações para acompanhar nesta 4ª\n",
      "Ibovespa tem alta discreta de 0,11% à espera de eleição dos EUA e medidas fiscais\n",
      "Por que esta é a semana mais importante de 2024 para mercados globais (e para a B3)\n",
      "Ibovespa Ao Vivo: Confira o que movimenta Bolsa, Dólar e Juros nesta quarta\n",
      "                                Open       High        Low      Close  \\\n",
      "Date                                                                    \n",
      "2024-05-21 00:00:00-03:00  44.875809  45.053106  44.373465  44.580311   \n",
      "2024-05-22 00:00:00-03:00  44.471969  45.506200  44.442417  45.378151   \n",
      "2024-05-23 00:00:00-03:00  44.974307  45.476647  44.974307  45.210705   \n",
      "2024-05-24 00:00:00-03:00  45.102356  45.870641  44.994007  45.210705   \n",
      "2024-05-27 00:00:00-03:00  45.210705  45.250102  44.974308  45.240253   \n",
      "...                              ...        ...        ...        ...   \n",
      "2024-11-13 00:00:00-03:00  52.130001  52.500000  51.740002  52.060001   \n",
      "2024-11-14 00:00:00-03:00  52.060001  52.389999  51.599998  51.599998   \n",
      "2024-11-18 00:00:00-03:00  51.540001  51.799999  51.160000  51.590000   \n",
      "2024-11-19 00:00:00-03:00  51.770000  52.250000  51.299999  52.130001   \n",
      "2024-11-21 00:00:00-03:00  51.200001  51.720001  51.200001  51.509998   \n",
      "\n",
      "                            Volume  Dividends  Stock Splits  \n",
      "Date                                                         \n",
      "2024-05-21 00:00:00-03:00  2976200        0.0           0.0  \n",
      "2024-05-22 00:00:00-03:00  2130800        0.0           0.0  \n",
      "2024-05-23 00:00:00-03:00  2826200        0.0           0.0  \n",
      "2024-05-24 00:00:00-03:00  1923600        0.0           0.0  \n",
      "2024-05-27 00:00:00-03:00   947400        0.0           0.0  \n",
      "...                            ...        ...           ...  \n",
      "2024-11-13 00:00:00-03:00  1708900        0.0           0.0  \n",
      "2024-11-14 00:00:00-03:00  1687200        0.0           0.0  \n",
      "2024-11-18 00:00:00-03:00  2421000        0.0           0.0  \n",
      "2024-11-19 00:00:00-03:00  1449000        0.0           0.0  \n",
      "2024-11-21 00:00:00-03:00    47600        0.0           0.0  \n",
      "\n",
      "[130 rows x 7 columns]\n"
     ]
    }
   ],
   "source": [
    "from newsapi.newsapi_client import NewsApiClient\n",
    "import yfinance as yf\n",
    "import requests\n",
    "from bs4 import BeautifulSoup\n",
    "\n",
    "\n",
    "\n",
    "\n",
    "#eu criei a API abaixo, verificar se está correta\n",
    "newsapi = NewsApiClient(api_key='3be6fb74511c432bb6741415eb0419d7')\n",
    "\n",
    "def get_stock_news(ticker, page_size=10, page=5):\n",
    "    # Obtenha as notícias relacionadas ao ticker\n",
    "    all_articles = newsapi.get_everything(q=ticker,\n",
    "                                          language='pt',\n",
    "                                          sort_by='relevancy',\n",
    "                                          page_size=page_size,\n",
    "                                          page=page)\n",
    "    return all_articles['articles']\n",
    "\n",
    "\n",
    "if __name__ == \"__main__\":\n",
    "    ticker = 'VIVT3'\n",
    "    news = []\n",
    "    for page in range(1, 6):  # Ajuste o range para buscar mais páginas\n",
    "        news.extend(get_stock_news(ticker, page_size=10, page=page))\n",
    "    for article in news:\n",
    "        print(article['title'])\n",
    "\n",
    "#Yahoo Finance\n",
    "ticker = yf.Ticker(\"VIVT3.SA\")\n",
    "data = ticker.history(period=\"6mo\")\n",
    "print(data)\n",
    "\n",
    "\n"
   ]
  },
  {
   "cell_type": "code",
   "execution_count": null,
   "metadata": {},
   "outputs": [],
   "source": []
  }
 ],
 "metadata": {
  "kernelspec": {
   "display_name": "Python 3",
   "language": "python",
   "name": "python3"
  },
  "language_info": {
   "codemirror_mode": {
    "name": "ipython",
    "version": 3
   },
   "file_extension": ".py",
   "mimetype": "text/x-python",
   "name": "python",
   "nbconvert_exporter": "python",
   "pygments_lexer": "ipython3",
   "version": "3.10.13"
  }
 },
 "nbformat": 4,
 "nbformat_minor": 2
}
